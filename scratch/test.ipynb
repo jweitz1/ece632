{
  "nbformat": 4,
  "nbformat_minor": 0,
  "metadata": {
    "colab": {
      "name": "Untitled0.ipynb",
      "provenance": [],
      "authorship_tag": "ABX9TyNO2uuYh7ZXdps0eMOC0qWj",
      "include_colab_link": true
    },
    "kernelspec": {
      "name": "python3",
      "display_name": "Python 3"
    },
    "language_info": {
      "name": "python"
    }
  },
  "cells": [
    {
      "cell_type": "markdown",
      "metadata": {
        "id": "view-in-github",
        "colab_type": "text"
      },
      "source": [
        "<a href=\"https://colab.research.google.com/github/jweitz1/ece632/blob/main/scratch/test.ipynb\" target=\"_parent\"><img src=\"https://colab.research.google.com/assets/colab-badge.svg\" alt=\"Open In Colab\"/></a>"
      ]
    },
    {
      "cell_type": "code",
      "execution_count": null,
      "metadata": {
        "id": "MM21dqlZelJ9"
      },
      "outputs": [],
      "source": [
        "## Boilerplate instructions for importing NumPy and Matplotlib\n",
        "# Import NumPy\n",
        "import numpy as np\n",
        "\n",
        "# To plot pretty figures, use matplotlib\n",
        "%matplotlib inline\n",
        "import matplotlib as mpl\n",
        "import matplotlib.pyplot as plt\n",
        "mpl.rc('axes', labelsize=14)\n",
        "mpl.rc('xtick', labelsize=12)\n",
        "mpl.rc('ytick', labelsize=12)\n",
        "\n",
        "def Saleh(x, alpha=2, beta=1):\n",
        "    \"\"\"Saleh model for a non-linear amplifier\n",
        "    \n",
        "    Inputs:\n",
        "    x - input voltage\n",
        "    alpha - small signal gain (default: 2)\n",
        "    beta - saturation parameter (default: 1)\n",
        "\n",
        "    Returns:\n",
        "    output voltage\n",
        "    \"\"\"\n",
        "\n",
        "    return alpha * x / (1 + beta * x**2)"
      ]
    },
    {
      "cell_type": "markdown",
      "source": [
        "Test Text"
      ],
      "metadata": {
        "id": "gh4ZnL9_fez2"
      }
    }
  ]
}